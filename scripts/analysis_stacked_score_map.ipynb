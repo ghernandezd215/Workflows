{
 "cells": [
  {
   "cell_type": "code",
   "execution_count": 1,
   "id": "8c39de10-4ee3-4e62-ad5e-ec07b9dcd7be",
   "metadata": {},
   "outputs": [
    {
     "name": "stdout",
     "output_type": "stream",
     "text": [
      "Requirement already satisfied: pyreadr in c:\\users\\user\\miniforge3\\envs\\pytoolkit-2025\\lib\\site-packages (0.5.3)\n",
      "Requirement already satisfied: mapclassify in c:\\users\\user\\miniforge3\\envs\\pytoolkit-2025\\lib\\site-packages (2.8.1)\n",
      "Requirement already satisfied: geopandas in c:\\users\\user\\miniforge3\\envs\\pytoolkit-2025\\lib\\site-packages (1.0.1)\n",
      "Requirement already satisfied: shapely in c:\\users\\user\\miniforge3\\envs\\pytoolkit-2025\\lib\\site-packages (2.1.0)\n",
      "Requirement already satisfied: folium in c:\\users\\user\\miniforge3\\envs\\pytoolkit-2025\\lib\\site-packages (0.19.5)\n",
      "Requirement already satisfied: pandas in c:\\users\\user\\miniforge3\\envs\\pytoolkit-2025\\lib\\site-packages (2.2.3)\n",
      "Requirement already satisfied: matplotlib in c:\\users\\user\\miniforge3\\envs\\pytoolkit-2025\\lib\\site-packages (3.10.1)\n",
      "Requirement already satisfied: pyproj in c:\\users\\user\\miniforge3\\envs\\pytoolkit-2025\\lib\\site-packages (3.7.1)\n",
      "Requirement already satisfied: rtree in c:\\users\\user\\miniforge3\\envs\\pytoolkit-2025\\lib\\site-packages (1.4.0)\n",
      "Requirement already satisfied: fiona in c:\\users\\user\\miniforge3\\envs\\pytoolkit-2025\\lib\\site-packages (1.10.1)\n",
      "Requirement already satisfied: networkx>=2.7 in c:\\users\\user\\miniforge3\\envs\\pytoolkit-2025\\lib\\site-packages (from mapclassify) (3.4.2)\n",
      "Requirement already satisfied: numpy>=1.23 in c:\\users\\user\\miniforge3\\envs\\pytoolkit-2025\\lib\\site-packages (from mapclassify) (2.2.4)\n",
      "Requirement already satisfied: scikit-learn>=1.0 in c:\\users\\user\\miniforge3\\envs\\pytoolkit-2025\\lib\\site-packages (from mapclassify) (1.6.1)\n",
      "Requirement already satisfied: scipy>=1.8 in c:\\users\\user\\miniforge3\\envs\\pytoolkit-2025\\lib\\site-packages (from mapclassify) (1.15.2)\n",
      "Requirement already satisfied: pyogrio>=0.7.2 in c:\\users\\user\\miniforge3\\envs\\pytoolkit-2025\\lib\\site-packages (from geopandas) (0.10.0)\n",
      "Requirement already satisfied: packaging in c:\\users\\user\\miniforge3\\envs\\pytoolkit-2025\\lib\\site-packages (from geopandas) (24.2)\n",
      "Requirement already satisfied: branca>=0.6.0 in c:\\users\\user\\miniforge3\\envs\\pytoolkit-2025\\lib\\site-packages (from folium) (0.8.1)\n",
      "Requirement already satisfied: jinja2>=2.9 in c:\\users\\user\\miniforge3\\envs\\pytoolkit-2025\\lib\\site-packages (from folium) (3.1.6)\n",
      "Requirement already satisfied: requests in c:\\users\\user\\miniforge3\\envs\\pytoolkit-2025\\lib\\site-packages (from folium) (2.32.3)\n",
      "Requirement already satisfied: xyzservices in c:\\users\\user\\miniforge3\\envs\\pytoolkit-2025\\lib\\site-packages (from folium) (2025.1.0)\n",
      "Requirement already satisfied: python-dateutil>=2.8.2 in c:\\users\\user\\miniforge3\\envs\\pytoolkit-2025\\lib\\site-packages (from pandas) (2.9.0.post0)\n",
      "Requirement already satisfied: pytz>=2020.1 in c:\\users\\user\\miniforge3\\envs\\pytoolkit-2025\\lib\\site-packages (from pandas) (2025.2)\n",
      "Requirement already satisfied: tzdata>=2022.7 in c:\\users\\user\\miniforge3\\envs\\pytoolkit-2025\\lib\\site-packages (from pandas) (2025.2)\n",
      "Requirement already satisfied: contourpy>=1.0.1 in c:\\users\\user\\miniforge3\\envs\\pytoolkit-2025\\lib\\site-packages (from matplotlib) (1.3.1)\n",
      "Requirement already satisfied: cycler>=0.10 in c:\\users\\user\\miniforge3\\envs\\pytoolkit-2025\\lib\\site-packages (from matplotlib) (0.12.1)\n",
      "Requirement already satisfied: fonttools>=4.22.0 in c:\\users\\user\\miniforge3\\envs\\pytoolkit-2025\\lib\\site-packages (from matplotlib) (4.57.0)\n",
      "Requirement already satisfied: kiwisolver>=1.3.1 in c:\\users\\user\\miniforge3\\envs\\pytoolkit-2025\\lib\\site-packages (from matplotlib) (1.4.7)\n",
      "Requirement already satisfied: pillow>=8 in c:\\users\\user\\miniforge3\\envs\\pytoolkit-2025\\lib\\site-packages (from matplotlib) (11.1.0)\n",
      "Requirement already satisfied: pyparsing>=2.3.1 in c:\\users\\user\\miniforge3\\envs\\pytoolkit-2025\\lib\\site-packages (from matplotlib) (3.2.3)\n",
      "Requirement already satisfied: certifi in c:\\users\\user\\miniforge3\\envs\\pytoolkit-2025\\lib\\site-packages (from pyproj) (2025.1.31)\n",
      "Requirement already satisfied: attrs>=19.2.0 in c:\\users\\user\\miniforge3\\envs\\pytoolkit-2025\\lib\\site-packages (from fiona) (25.3.0)\n",
      "Requirement already satisfied: click~=8.0 in c:\\users\\user\\miniforge3\\envs\\pytoolkit-2025\\lib\\site-packages (from fiona) (8.1.8)\n",
      "Requirement already satisfied: click-plugins>=1.0 in c:\\users\\user\\miniforge3\\envs\\pytoolkit-2025\\lib\\site-packages (from fiona) (1.1.1)\n",
      "Requirement already satisfied: cligj>=0.5 in c:\\users\\user\\miniforge3\\envs\\pytoolkit-2025\\lib\\site-packages (from fiona) (0.7.2)\n",
      "Requirement already satisfied: colorama in c:\\users\\user\\miniforge3\\envs\\pytoolkit-2025\\lib\\site-packages (from click~=8.0->fiona) (0.4.6)\n",
      "Requirement already satisfied: MarkupSafe>=2.0 in c:\\users\\user\\miniforge3\\envs\\pytoolkit-2025\\lib\\site-packages (from jinja2>=2.9->folium) (3.0.2)\n",
      "Requirement already satisfied: six>=1.5 in c:\\users\\user\\miniforge3\\envs\\pytoolkit-2025\\lib\\site-packages (from python-dateutil>=2.8.2->pandas) (1.17.0)\n",
      "Requirement already satisfied: joblib>=1.2.0 in c:\\users\\user\\miniforge3\\envs\\pytoolkit-2025\\lib\\site-packages (from scikit-learn>=1.0->mapclassify) (1.4.2)\n",
      "Requirement already satisfied: threadpoolctl>=3.1.0 in c:\\users\\user\\miniforge3\\envs\\pytoolkit-2025\\lib\\site-packages (from scikit-learn>=1.0->mapclassify) (3.6.0)\n",
      "Requirement already satisfied: charset_normalizer<4,>=2 in c:\\users\\user\\miniforge3\\envs\\pytoolkit-2025\\lib\\site-packages (from requests->folium) (3.4.1)\n",
      "Requirement already satisfied: idna<4,>=2.5 in c:\\users\\user\\miniforge3\\envs\\pytoolkit-2025\\lib\\site-packages (from requests->folium) (3.10)\n",
      "Requirement already satisfied: urllib3<3,>=1.21.1 in c:\\users\\user\\miniforge3\\envs\\pytoolkit-2025\\lib\\site-packages (from requests->folium) (2.4.0)\n"
     ]
    }
   ],
   "source": [
    "!pip install --upgrade \\\n",
    "    pyreadr \\\n",
    "    mapclassify \\\n",
    "    geopandas \\\n",
    "    shapely \\\n",
    "    folium \\\n",
    "    pandas \\\n",
    "    matplotlib \\\n",
    "    pyproj \\\n",
    "    rtree \\\n",
    "    fiona"
   ]
  },
  {
   "cell_type": "code",
   "execution_count": 48,
   "id": "6abe8db7-eab0-40d0-9e19-5fe9304b74d6",
   "metadata": {},
   "outputs": [],
   "source": [
    "import pyreadr, geopandas as gpd\n",
    "\n",
    "gdf = gpd.read_file(\"C:/Users/User/Documents/TOOLKIT/clients/arshad/cache/austin_acs5yr_tracts.gpkg\")\n",
    "\n",
    "\n"
   ]
  },
  {
   "cell_type": "code",
   "execution_count": 35,
   "id": "82d1d259-bc88-4631-bacd-3c7de605d303",
   "metadata": {},
   "outputs": [
    {
     "data": {
      "text/plain": [
       "Index(['GEOID', 'NAME', 'median_household_income',\n",
       "       'aggregate_household_income', 'white_alone', 'hispanic_or_latino',\n",
       "       'bachelors_degree', 'masters_degree', 'total_population',\n",
       "       'median_age_total', 'median_age_male', 'median_age_female',\n",
       "       'median_value_pre1939', 'female_living_alone',\n",
       "       'log_median_household_income', 'log_aggregate_household_income',\n",
       "       'log_median_value_pre1939', 'median_household_income_clipped',\n",
       "       'aggregate_household_income_clipped', 'median_value_pre1939_clipped',\n",
       "       'aggregate_household_income_pct', 'white_alone_pct',\n",
       "       'hispanic_or_latino_pct', 'bachelors_degree_pct', 'masters_degree_pct',\n",
       "       'female_living_alone_pct', 'edu_attain_pct', 'pct_male_30_54.y',\n",
       "       'pct_female_30_54.y', 'male_30_54', 'female_30_54',\n",
       "       'vacant_residence_elsewhere', 'two_or_more_races', 'income_75k_plus.y',\n",
       "       'income_125k_plus.y', 'center', 'other', 'nails', 'spa', 'salon', 'tan',\n",
       "       'urgent', 'wax', 'aesthetics', 'NA', 'clinic', 'skin', 'med spa',\n",
       "       'total', 'median_household_income_hotspot',\n",
       "       'aggregate_household_income_hotspot', 'white_alone_hotspot',\n",
       "       'hispanic_or_latino_hotspot', 'bachelors_degree_hotspot',\n",
       "       'masters_degree_hotspot', 'total_population_hotspot',\n",
       "       'median_age_total_hotspot', 'median_age_male_hotspot',\n",
       "       'median_age_female_hotspot', 'median_value_pre1939_hotspot',\n",
       "       'female_living_alone_hotspot', 'log_median_household_income_hotspot',\n",
       "       'log_aggregate_household_income_hotspot',\n",
       "       'log_median_value_pre1939_hotspot',\n",
       "       'median_household_income_clipped_hotspot',\n",
       "       'aggregate_household_income_clipped_hotspot',\n",
       "       'median_value_pre1939_clipped_hotspot',\n",
       "       'aggregate_household_income_pct_hotspot', 'white_alone_pct_hotspot',\n",
       "       'hispanic_or_latino_pct_hotspot', 'bachelors_degree_pct_hotspot',\n",
       "       'masters_degree_pct_hotspot', 'female_living_alone_pct_hotspot',\n",
       "       'edu_attain_pct_hotspot', 'pct_male_30_54.y_hotspot',\n",
       "       'pct_female_30_54.y_hotspot', 'male_30_54_hotspot',\n",
       "       'female_30_54_hotspot', 'vacant_residence_elsewhere_hotspot',\n",
       "       'two_or_more_races_hotspot', 'income_75k_plus.y_hotspot',\n",
       "       'income_125k_plus.y_hotspot', 'center_hotspot', 'other_hotspot',\n",
       "       'nails_hotspot', 'spa_hotspot', 'salon_hotspot', 'tan_hotspot',\n",
       "       'urgent_hotspot', 'wax_hotspot', 'aesthetics_hotspot', 'NA_hotspot',\n",
       "       'clinic_hotspot', 'skin_hotspot', 'med spa_hotspot', 'total_hotspot',\n",
       "       'hottest', 'n_hotspots', 'geometry'],\n",
       "      dtype='object')"
      ]
     },
     "execution_count": 35,
     "metadata": {},
     "output_type": "execute_result"
    }
   ],
   "source": [
    "gdf.columns\n",
    "\n"
   ]
  },
  {
   "cell_type": "code",
   "execution_count": 49,
   "id": "005f713e-1ce7-444b-99d7-c8c00d1ac55c",
   "metadata": {},
   "outputs": [
    {
     "name": "stdout",
     "output_type": "stream",
     "text": [
      "Median Household Incomes breaks: [11.17 11.37 11.57 11.79 12.43]\n",
      "Population: White Alone breaks: [0.44 0.56 0.67 0.77 0.92]\n",
      "Females Living Alone - Age 35‑54 breaks: [ 3.77  6.37  9.05 11.53 21.33]\n",
      "Males Living Alone - Age 35‑54 breaks: [ 3.83  7.34 10.74 14.12 44.55]\n",
      "Total Population breaks: [ 2850.2  3791.   4524.8  6009.8 14151. ]\n",
      "Aggregate Household Income breaks: [18.71 19.07 19.4  19.77 20.61]\n",
      "Educational Attainment_Masters breaks: [0.05 0.09 0.12 0.17 0.31]\n",
      "Incomes $125k+ breaks: [ 179.8  328.2  536.4  851.4 2382. ]\n"
     ]
    }
   ],
   "source": [
    "# 1. Rename safely\n",
    "rename_map = {\n",
    "    \"log_median_household_income\": \"Median Household Incomes\",\n",
    "    \"white_alone_pct\":             \"Population: White Alone\",\n",
    "    \"pct_female_30_54.y\":          \"Females Living Alone - Age 35‑54\",\n",
    "    \"pct_male_30_54.y\":            \"Males Living Alone - Age 35‑54\",\n",
    "    \"total_population\":            \"Total Population\",\n",
    "    \"log_aggregate_household_income\": \"Aggregate Household Income\",\n",
    "    \"masters_degree_pct\":             \"Educational Attainment_Masters\",\n",
    "    \"income_125k_plus.y\":             \"Incomes $125k+\"\n",
    "}\n",
    "\n",
    "existing_cols = gdf.columns\n",
    "missing_cols = [c for c in rename_map if c not in existing_cols]\n",
    "if missing_cols:\n",
    "    print(\"⚠️ Missing columns:\", missing_cols)\n",
    "\n",
    "# Perform safe rename and subset\n",
    "safe_rename = {k: v for k, v in rename_map.items() if k in existing_cols}\n",
    "gdf = gdf[list(safe_rename.keys()) +\n",
    "          [c for c in gdf.columns if c.endswith(\"_hotspot\")] +\n",
    "          [\"geometry\"]].rename(columns=safe_rename)\n",
    "\n",
    "# 2. Define reclassification targets (based on renamed names)\n",
    "vars_to_class = list(safe_rename.values())\n",
    "\n",
    "# 3. Reclassify\n",
    "import mapclassify as mc\n",
    "\n",
    "for col in vars_to_class:\n",
    "    if col in gdf.columns:\n",
    "        scheme = mc.Quantiles(gdf[col], k=5)\n",
    "        gdf[f\"{col}_cls\"] = scheme.find_bin(gdf[col]) + 1\n",
    "        print(f\"{col} breaks: {scheme.bins.round(2)}\")\n",
    "    else:\n",
    "        print(f\"⚠️ Column '{col}' missing in reclassification step.\")"
   ]
  },
  {
   "cell_type": "code",
   "execution_count": 50,
   "id": "ddc9038f-cde5-4e7a-977f-12b974256a57",
   "metadata": {},
   "outputs": [],
   "source": [
    "# 1–5 scores\n",
    "score_cols = [f\"{c}_cls\" for c in vars_to_class]\n",
    "gdf[\"stack_score\"] = gdf[score_cols].sum(axis=1)\n",
    "\n",
    "# add +3 for EACH hotspot column that is TRUE\n",
    "hotspot_cols = [\n",
    "    \"pct_female_30_54.y_hotspot\",\n",
    "    \"pct_male_30_54.y_hotspot\",\n",
    "    \"white_alone_pct_hotspot\",\n",
    "    \"log_median_household_income_hotspot\",\n",
    "    \"log_aggregate_household_income_hotspot\",\n",
    "    \"income_125k_plus.y_hotspot\"\n",
    "]\n",
    "\n",
    "bonus = gdf[hotspot_cols].astype(bool).sum(axis=1) * 3\n",
    "# 👉  If you want “+3 once if ANY hotspot is true” instead:\n",
    "# bonus = (gdf[hotspot_cols].astype(bool).any(axis=1) * 3)\n",
    "\n",
    "gdf[\"stack_score\"] += bonus"
   ]
  },
  {
   "cell_type": "code",
   "execution_count": 51,
   "id": "44c36ed5-982a-495e-90e1-43a7e38b9842",
   "metadata": {},
   "outputs": [],
   "source": [
    "# Rank the tracts: rank = 1 means highest stack_score\n",
    "gdf[\"score_rank\"] = gdf[\"stack_score\"].rank(\n",
    "    method=\"first\",   # break ties by order of appearance\n",
    "    ascending=False\n",
    ").astype(int)\n",
    "\n",
    "def rank_to_tier(r):\n",
    "    if   1  <= r <=  5:  return \"Tier 1\"\n",
    "    elif 6  <= r <= 10:  return \"Tier 2\"\n",
    "    elif 11 <= r <= 15:  return \"Tier 3\"\n",
    "    elif 15 <= r <= 25:  return \"Tier 4\"\n",
    "    else:                return \"Other\"\n",
    "\n",
    "gdf[\"tier\"] = gdf[\"score_rank\"].apply(rank_to_tier)"
   ]
  },
  {
   "cell_type": "code",
   "execution_count": 52,
   "id": "8e572989-5a83-4172-ab86-ce695a387c1d",
   "metadata": {},
   "outputs": [
    {
     "name": "stdout",
     "output_type": "stream",
     "text": [
      "📄  PDF map saved ➞  C:\\Users\\User\\Documents\\TOOLKIT\\clients\\arshad\\outputs\\pdf\\arshad_tiers_py\n"
     ]
    }
   ],
   "source": [
    "#  -------------------------------------------------\n",
    "#  📌  Static PDF choropleth of Tier 1‑4 + Other\n",
    "#  -------------------------------------------------\n",
    "import matplotlib.pyplot as plt\n",
    "from pathlib import Path\n",
    "import geopandas as gpd\n",
    "import matplotlib.colors as mcolors\n",
    "\n",
    "# ── 1.  Choose a discrete color map for tiers\n",
    "tier_colors = {\n",
    "    \"Tier 1\": \"#800026\",   # dark red\n",
    "    \"Tier 2\": \"#BD0026\",\n",
    "    \"Tier 3\": \"#E31A1C\",\n",
    "    \"Tier 4\": \"#FC4E2A\",\n",
    "    \"Other\":  \"#FFEDA0\"    # pale yellow\n",
    "}\n",
    "cmap = mcolors.ListedColormap(list(tier_colors.values()))\n",
    "tier_categories = list(tier_colors.keys())\n",
    "\n",
    "# ── 2.  Plot\n",
    "fig, ax = plt.subplots(figsize=(8.5, 11))\n",
    "gdf.plot(\n",
    "    column=\"tier\",\n",
    "    categorical=True,\n",
    "    categories=tier_categories,\n",
    "    cmap=cmap,\n",
    "    linewidth=0.2,\n",
    "    edgecolor=\"white\",\n",
    "    ax=ax\n",
    ")\n",
    "\n",
    "# ── 3.  Cosmetics\n",
    "ax.set_title(\"Austin – Stacked Score Tiers (Top 20 Tracts Highlighted)\",\n",
    "             fontsize=14, pad=15)\n",
    "ax.axis(\"off\")\n",
    "\n",
    "# Legend\n",
    "handles = [\n",
    "    plt.Rectangle((0,0),1,1,color=tier_colors[tier])  # dummy patches\n",
    "    for tier in tier_categories\n",
    "]\n",
    "ax.legend(handles, tier_categories,\n",
    "          title=\"Tier\",\n",
    "          loc=\"lower left\",\n",
    "          frameon=False)\n",
    "\n",
    "# ── 4.  Save the PDF\n",
    "out_pdf = Path(r\"C:\\Users\\User\\Documents\\TOOLKIT\\clients\\arshad\\outputs\\pdf\\arshad_tiers_py\")\n",
    "plt.savefig(out_pdf, dpi=300, bbox_inches=\"tight\")\n",
    "plt.close()\n",
    "\n",
    "print(f\"📄  PDF map saved ➞  {out_pdf.resolve()}\")"
   ]
  },
  {
   "cell_type": "code",
   "execution_count": 53,
   "id": "c095088b-5888-4609-996e-281c806b2b4b",
   "metadata": {},
   "outputs": [
    {
     "name": "stdout",
     "output_type": "stream",
     "text": [
      "💾  GeoPackage saved ➞  C:\\Users\\User\\Documents\\TOOLKIT\\clients\\arshad\\cache\\arshad_austin_acs_final_stackscore.gpkg\n"
     ]
    }
   ],
   "source": [
    "from pathlib import Path\n",
    "\n",
    "out_gpkg = Path(\n",
    "    r\"C:\\Users\\User\\Documents\\TOOLKIT\\clients\\arshad\\cache\"\n",
    "    r\"\\arshad_austin_acs_final_stackscore.gpkg\"\n",
    ")\n",
    "\n",
    "# make sure the parent folder exists\n",
    "out_gpkg.parent.mkdir(parents=True, exist_ok=True)\n",
    "\n",
    "# save — GeoPandas will create (or overwrite) the .gpkg file\n",
    "gdf.to_file(out_gpkg, driver=\"GPKG\")\n",
    "\n",
    "print(f\"💾  GeoPackage saved ➞  {out_gpkg}\")"
   ]
  },
  {
   "cell_type": "code",
   "execution_count": 41,
   "id": "7b0e95e2-e5dc-4a3e-922b-cffde2aac8c8",
   "metadata": {
    "scrolled": true
   },
   "outputs": [
    {
     "ename": "KeyError",
     "evalue": "\"['NAME'] not in index\"",
     "output_type": "error",
     "traceback": [
      "\u001b[31m---------------------------------------------------------------------------\u001b[39m",
      "\u001b[31mKeyError\u001b[39m                                  Traceback (most recent call last)",
      "\u001b[36mCell\u001b[39m\u001b[36m \u001b[39m\u001b[32mIn[41]\u001b[39m\u001b[32m, line 8\u001b[39m\n\u001b[32m      5\u001b[39m out_csv.parent.mkdir(parents=\u001b[38;5;28;01mTrue\u001b[39;00m, exist_ok=\u001b[38;5;28;01mTrue\u001b[39;00m)\n\u001b[32m      7\u001b[39m \u001b[38;5;66;03m# Select and save\u001b[39;00m\n\u001b[32m----> \u001b[39m\u001b[32m8\u001b[39m \u001b[43mgdf\u001b[49m\u001b[43m[\u001b[49m\u001b[43m[\u001b[49m\u001b[33;43m\"\u001b[39;49m\u001b[33;43mstack_score\u001b[39;49m\u001b[33;43m\"\u001b[39;49m\u001b[43m,\u001b[49m\u001b[43m \u001b[49m\u001b[33;43m\"\u001b[39;49m\u001b[33;43mscore_rank\u001b[39;49m\u001b[33;43m\"\u001b[39;49m\u001b[43m,\u001b[49m\u001b[43m \u001b[49m\u001b[33;43m\"\u001b[39;49m\u001b[33;43mtier\u001b[39;49m\u001b[33;43m\"\u001b[39;49m\u001b[43m,\u001b[49m\u001b[43m \u001b[49m\u001b[33;43m\"\u001b[39;49m\u001b[33;43mNAME\u001b[39;49m\u001b[33;43m\"\u001b[39;49m\u001b[43m]\u001b[49m\u001b[43m]\u001b[49m.to_csv(out_csv, index=\u001b[38;5;28;01mFalse\u001b[39;00m)\n\u001b[32m     10\u001b[39m \u001b[38;5;28mprint\u001b[39m(\u001b[33mf\u001b[39m\u001b[33m\"\u001b[39m\u001b[33m📄 CSV saved ➞ \u001b[39m\u001b[38;5;132;01m{\u001b[39;00mout_csv\u001b[38;5;132;01m}\u001b[39;00m\u001b[33m\"\u001b[39m)\n",
      "\u001b[36mFile \u001b[39m\u001b[32m~\\miniforge3\\envs\\pytoolkit-2025\\Lib\\site-packages\\geopandas\\geodataframe.py:1750\u001b[39m, in \u001b[36mGeoDataFrame.__getitem__\u001b[39m\u001b[34m(self, key)\u001b[39m\n\u001b[32m   1744\u001b[39m \u001b[38;5;28;01mdef\u001b[39;00m\u001b[38;5;250m \u001b[39m\u001b[34m__getitem__\u001b[39m(\u001b[38;5;28mself\u001b[39m, key):\n\u001b[32m   1745\u001b[39m \u001b[38;5;250m    \u001b[39m\u001b[33;03m\"\"\"\u001b[39;00m\n\u001b[32m   1746\u001b[39m \u001b[33;03m    If the result is a column containing only 'geometry', return a\u001b[39;00m\n\u001b[32m   1747\u001b[39m \u001b[33;03m    GeoSeries. If it's a DataFrame with any columns of GeometryDtype,\u001b[39;00m\n\u001b[32m   1748\u001b[39m \u001b[33;03m    return a GeoDataFrame.\u001b[39;00m\n\u001b[32m   1749\u001b[39m \u001b[33;03m    \"\"\"\u001b[39;00m\n\u001b[32m-> \u001b[39m\u001b[32m1750\u001b[39m     result = \u001b[38;5;28;43msuper\u001b[39;49m\u001b[43m(\u001b[49m\u001b[43m)\u001b[49m\u001b[43m.\u001b[49m\u001b[34;43m__getitem__\u001b[39;49m\u001b[43m(\u001b[49m\u001b[43mkey\u001b[49m\u001b[43m)\u001b[49m\n\u001b[32m   1751\u001b[39m     \u001b[38;5;66;03m# Custom logic to avoid waiting for pandas GH51895\u001b[39;00m\n\u001b[32m   1752\u001b[39m     \u001b[38;5;66;03m# result is not geometry dtype for multi-indexes\u001b[39;00m\n\u001b[32m   1753\u001b[39m     \u001b[38;5;28;01mif\u001b[39;00m (\n\u001b[32m   1754\u001b[39m         pd.api.types.is_scalar(key)\n\u001b[32m   1755\u001b[39m         \u001b[38;5;129;01mand\u001b[39;00m key == \u001b[33m\"\u001b[39m\u001b[33m\"\u001b[39m\n\u001b[32m   (...)\u001b[39m\u001b[32m   1758\u001b[39m         \u001b[38;5;129;01mand\u001b[39;00m \u001b[38;5;129;01mnot\u001b[39;00m is_geometry_type(result)\n\u001b[32m   1759\u001b[39m     ):\n",
      "\u001b[36mFile \u001b[39m\u001b[32m~\\miniforge3\\envs\\pytoolkit-2025\\Lib\\site-packages\\pandas\\core\\frame.py:4108\u001b[39m, in \u001b[36mDataFrame.__getitem__\u001b[39m\u001b[34m(self, key)\u001b[39m\n\u001b[32m   4106\u001b[39m     \u001b[38;5;28;01mif\u001b[39;00m is_iterator(key):\n\u001b[32m   4107\u001b[39m         key = \u001b[38;5;28mlist\u001b[39m(key)\n\u001b[32m-> \u001b[39m\u001b[32m4108\u001b[39m     indexer = \u001b[38;5;28;43mself\u001b[39;49m\u001b[43m.\u001b[49m\u001b[43mcolumns\u001b[49m\u001b[43m.\u001b[49m\u001b[43m_get_indexer_strict\u001b[49m\u001b[43m(\u001b[49m\u001b[43mkey\u001b[49m\u001b[43m,\u001b[49m\u001b[43m \u001b[49m\u001b[33;43m\"\u001b[39;49m\u001b[33;43mcolumns\u001b[39;49m\u001b[33;43m\"\u001b[39;49m\u001b[43m)\u001b[49m[\u001b[32m1\u001b[39m]\n\u001b[32m   4110\u001b[39m \u001b[38;5;66;03m# take() does not accept boolean indexers\u001b[39;00m\n\u001b[32m   4111\u001b[39m \u001b[38;5;28;01mif\u001b[39;00m \u001b[38;5;28mgetattr\u001b[39m(indexer, \u001b[33m\"\u001b[39m\u001b[33mdtype\u001b[39m\u001b[33m\"\u001b[39m, \u001b[38;5;28;01mNone\u001b[39;00m) == \u001b[38;5;28mbool\u001b[39m:\n",
      "\u001b[36mFile \u001b[39m\u001b[32m~\\miniforge3\\envs\\pytoolkit-2025\\Lib\\site-packages\\pandas\\core\\indexes\\base.py:6200\u001b[39m, in \u001b[36mIndex._get_indexer_strict\u001b[39m\u001b[34m(self, key, axis_name)\u001b[39m\n\u001b[32m   6197\u001b[39m \u001b[38;5;28;01melse\u001b[39;00m:\n\u001b[32m   6198\u001b[39m     keyarr, indexer, new_indexer = \u001b[38;5;28mself\u001b[39m._reindex_non_unique(keyarr)\n\u001b[32m-> \u001b[39m\u001b[32m6200\u001b[39m \u001b[38;5;28;43mself\u001b[39;49m\u001b[43m.\u001b[49m\u001b[43m_raise_if_missing\u001b[49m\u001b[43m(\u001b[49m\u001b[43mkeyarr\u001b[49m\u001b[43m,\u001b[49m\u001b[43m \u001b[49m\u001b[43mindexer\u001b[49m\u001b[43m,\u001b[49m\u001b[43m \u001b[49m\u001b[43maxis_name\u001b[49m\u001b[43m)\u001b[49m\n\u001b[32m   6202\u001b[39m keyarr = \u001b[38;5;28mself\u001b[39m.take(indexer)\n\u001b[32m   6203\u001b[39m \u001b[38;5;28;01mif\u001b[39;00m \u001b[38;5;28misinstance\u001b[39m(key, Index):\n\u001b[32m   6204\u001b[39m     \u001b[38;5;66;03m# GH 42790 - Preserve name from an Index\u001b[39;00m\n",
      "\u001b[36mFile \u001b[39m\u001b[32m~\\miniforge3\\envs\\pytoolkit-2025\\Lib\\site-packages\\pandas\\core\\indexes\\base.py:6252\u001b[39m, in \u001b[36mIndex._raise_if_missing\u001b[39m\u001b[34m(self, key, indexer, axis_name)\u001b[39m\n\u001b[32m   6249\u001b[39m     \u001b[38;5;28;01mraise\u001b[39;00m \u001b[38;5;167;01mKeyError\u001b[39;00m(\u001b[33mf\u001b[39m\u001b[33m\"\u001b[39m\u001b[33mNone of [\u001b[39m\u001b[38;5;132;01m{\u001b[39;00mkey\u001b[38;5;132;01m}\u001b[39;00m\u001b[33m] are in the [\u001b[39m\u001b[38;5;132;01m{\u001b[39;00maxis_name\u001b[38;5;132;01m}\u001b[39;00m\u001b[33m]\u001b[39m\u001b[33m\"\u001b[39m)\n\u001b[32m   6251\u001b[39m not_found = \u001b[38;5;28mlist\u001b[39m(ensure_index(key)[missing_mask.nonzero()[\u001b[32m0\u001b[39m]].unique())\n\u001b[32m-> \u001b[39m\u001b[32m6252\u001b[39m \u001b[38;5;28;01mraise\u001b[39;00m \u001b[38;5;167;01mKeyError\u001b[39;00m(\u001b[33mf\u001b[39m\u001b[33m\"\u001b[39m\u001b[38;5;132;01m{\u001b[39;00mnot_found\u001b[38;5;132;01m}\u001b[39;00m\u001b[33m not in index\u001b[39m\u001b[33m\"\u001b[39m)\n",
      "\u001b[31mKeyError\u001b[39m: \"['NAME'] not in index\""
     ]
    }
   ],
   "source": [
    "from pathlib import Path\n",
    "\n",
    "# Define output path\n",
    "out_csv = Path(\"C:/Users/User/Documents/TOOLKIT/clients/arshad/outputs/composite_summary.csv\")\n",
    "out_csv.parent.mkdir(parents=True, exist_ok=True)\n",
    "\n",
    "# Select and save\n",
    "gdf[[\"stack_score\", \"score_rank\", \"tier\", \"N\"]].to_csv(out_csv, index=False)\n",
    "\n",
    "print(f\"📄 CSV saved ➞ {out_csv}\")\n",
    "\n",
    "\n",
    "\n",
    "\n",
    "\n"
   ]
  },
  {
   "cell_type": "code",
   "execution_count": null,
   "id": "04c88e14-19d1-402e-b482-9da9555333d7",
   "metadata": {},
   "outputs": [],
   "source": []
  },
  {
   "cell_type": "code",
   "execution_count": null,
   "id": "8e44c7e1-2bdb-42c9-aaf9-16c539520535",
   "metadata": {},
   "outputs": [],
   "source": []
  }
 ],
 "metadata": {
  "kernelspec": {
   "display_name": "Python 3 (ipykernel)",
   "language": "python",
   "name": "python3"
  },
  "language_info": {
   "codemirror_mode": {
    "name": "ipython",
    "version": 3
   },
   "file_extension": ".py",
   "mimetype": "text/x-python",
   "name": "python",
   "nbconvert_exporter": "python",
   "pygments_lexer": "ipython3",
   "version": "3.13.3"
  }
 },
 "nbformat": 4,
 "nbformat_minor": 5
}
